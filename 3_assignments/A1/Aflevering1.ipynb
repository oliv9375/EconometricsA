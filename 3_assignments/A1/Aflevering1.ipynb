{
 "cells": [
  {
   "cell_type": "code",
   "execution_count": 8,
   "metadata": {},
   "outputs": [
    {
     "name": "stdout",
     "output_type": "stream",
     "text": [
      "     nr                kommune        taxrev    taxrate     pop\n",
      "0   101     Københavns Kommune  44170.335938  23.799999  528208\n",
      "1   147  Frederiksberg Kommune   6682.439941  23.100000   96718\n",
      "2   151       Ballerup Kommune   4598.704102  25.500000   47652\n",
      "3   153        Brøndby Kommune   3121.204834  24.500000   33795\n",
      "4   155         Dragør Kommune    858.017944  24.799999   13564\n",
      "..  ...                    ...           ...        ...     ...\n",
      "93  840         Rebild Kommune   1957.348511  25.100000   28852\n",
      "94  846  Mariagerfjord Kommune   3186.054932  25.700001   42604\n",
      "95  849     Jammerbugt Kommune   3241.256592  25.299999   38927\n",
      "96  851        Aalborg Kommune  16330.091797  25.400000  197426\n",
      "97  860       Hjørring Kommune   5061.796875  25.400000   66803\n",
      "\n",
      "[98 rows x 5 columns]\n"
     ]
    }
   ],
   "source": [
    "import pandas as pd\n",
    "df = pd.read_stata(\"A1_kommune.dta\")\n",
    "print(df)\n",
    "\n"
   ]
  },
  {
   "cell_type": "code",
   "execution_count": 9,
   "metadata": {},
   "outputs": [
    {
     "data": {
      "text/html": [
       "<div>\n",
       "<style scoped>\n",
       "    .dataframe tbody tr th:only-of-type {\n",
       "        vertical-align: middle;\n",
       "    }\n",
       "\n",
       "    .dataframe tbody tr th {\n",
       "        vertical-align: top;\n",
       "    }\n",
       "\n",
       "    .dataframe thead th {\n",
       "        text-align: right;\n",
       "    }\n",
       "</style>\n",
       "<table border=\"1\" class=\"dataframe\">\n",
       "  <thead>\n",
       "    <tr style=\"text-align: right;\">\n",
       "      <th></th>\n",
       "      <th>taxrev</th>\n",
       "      <th>taxrate</th>\n",
       "      <th>pop</th>\n",
       "    </tr>\n",
       "  </thead>\n",
       "  <tbody>\n",
       "    <tr>\n",
       "      <th>count</th>\n",
       "      <td>98.000000</td>\n",
       "      <td>98.000000</td>\n",
       "      <td>98.000000</td>\n",
       "    </tr>\n",
       "    <tr>\n",
       "      <th>mean</th>\n",
       "      <td>4477.341309</td>\n",
       "      <td>25.208162</td>\n",
       "      <td>56475.887755</td>\n",
       "    </tr>\n",
       "    <tr>\n",
       "      <th>std</th>\n",
       "      <td>5251.175293</td>\n",
       "      <td>0.908003</td>\n",
       "      <td>62925.301713</td>\n",
       "    </tr>\n",
       "    <tr>\n",
       "      <th>min</th>\n",
       "      <td>211.228409</td>\n",
       "      <td>22.799999</td>\n",
       "      <td>1969.000000</td>\n",
       "    </tr>\n",
       "    <tr>\n",
       "      <th>25%</th>\n",
       "      <td>2466.702271</td>\n",
       "      <td>24.799999</td>\n",
       "      <td>29997.750000</td>\n",
       "    </tr>\n",
       "    <tr>\n",
       "      <th>50%</th>\n",
       "      <td>3317.848633</td>\n",
       "      <td>25.299999</td>\n",
       "      <td>43475.000000</td>\n",
       "    </tr>\n",
       "    <tr>\n",
       "      <th>75%</th>\n",
       "      <td>4786.060913</td>\n",
       "      <td>25.700001</td>\n",
       "      <td>59733.000000</td>\n",
       "    </tr>\n",
       "    <tr>\n",
       "      <th>max</th>\n",
       "      <td>44170.335938</td>\n",
       "      <td>27.799999</td>\n",
       "      <td>528208.000000</td>\n",
       "    </tr>\n",
       "  </tbody>\n",
       "</table>\n",
       "</div>"
      ],
      "text/plain": [
       "             taxrev    taxrate            pop\n",
       "count     98.000000  98.000000      98.000000\n",
       "mean    4477.341309  25.208162   56475.887755\n",
       "std     5251.175293   0.908003   62925.301713\n",
       "min      211.228409  22.799999    1969.000000\n",
       "25%     2466.702271  24.799999   29997.750000\n",
       "50%     3317.848633  25.299999   43475.000000\n",
       "75%     4786.060913  25.700001   59733.000000\n",
       "max    44170.335938  27.799999  528208.000000"
      ]
     },
     "execution_count": 9,
     "metadata": {},
     "output_type": "execute_result"
    }
   ],
   "source": [
    "df[['taxrev', 'taxrate', 'pop']].describe()"
   ]
  },
  {
   "cell_type": "code",
   "execution_count": 10,
   "metadata": {},
   "outputs": [
    {
     "data": {
      "text/plain": [
       "kommune\n",
       "Københavns Kommune    0.010204\n",
       "Syddjurs Kommune      0.010204\n",
       "Lemvig Kommune        0.010204\n",
       "Holstebro Kommune     0.010204\n",
       "Herning Kommune       0.010204\n",
       "                        ...   \n",
       "Køge Kommune          0.010204\n",
       "Greve Kommune         0.010204\n",
       "Bornholms Kommune     0.010204\n",
       "Gribskov Kommune      0.010204\n",
       "Hjørring Kommune      0.010204\n",
       "Name: proportion, Length: 98, dtype: float64"
      ]
     },
     "execution_count": 10,
     "metadata": {},
     "output_type": "execute_result"
    }
   ],
   "source": [
    "df['kommune'].value_counts(normalize=True)"
   ]
  },
  {
   "cell_type": "code",
   "execution_count": 11,
   "metadata": {},
   "outputs": [
    {
     "name": "stdout",
     "output_type": "stream",
     "text": [
      "                            OLS Regression Results                            \n",
      "==============================================================================\n",
      "Dep. Variable:                 taxrev   R-squared:                       0.029\n",
      "Model:                            OLS   Adj. R-squared:                  0.018\n",
      "Method:                 Least Squares   F-statistic:                     2.818\n",
      "Date:                Thu, 18 Sep 2025   Prob (F-statistic):             0.0965\n",
      "Time:                        14:05:09   Log-Likelihood:                -111.12\n",
      "No. Observations:                  98   AIC:                             226.2\n",
      "Df Residuals:                      96   BIC:                             231.4\n",
      "Df Model:                           1                                         \n",
      "Covariance Type:            nonrobust                                         \n",
      "==============================================================================\n",
      "                 coef    std err          t      P>|t|      [0.025      0.975]\n",
      "------------------------------------------------------------------------------\n",
      "const         11.6982      2.143      5.459      0.000       7.444      15.952\n",
      "taxrate       -0.1426      0.085     -1.679      0.096      -0.311       0.026\n",
      "==============================================================================\n",
      "Omnibus:                       17.794   Durbin-Watson:                   1.863\n",
      "Prob(Omnibus):                  0.000   Jarque-Bera (JB):               45.446\n",
      "Skew:                          -0.567   Prob(JB):                     1.35e-10\n",
      "Kurtosis:                       6.138   Cond. No.                         705.\n",
      "==============================================================================\n",
      "\n",
      "Notes:\n",
      "[1] Standard Errors assume that the covariance matrix of the errors is correctly specified.\n"
     ]
    }
   ],
   "source": [
    "import numpy as np\n",
    "import statsmodels.api as sm\n",
    "\n",
    "y = np.log(df['taxrev'])\n",
    "X = df['taxrate']\n",
    "X = sm.add_constant(X)\n",
    "\n",
    "OLS = sm.OLS(y, X).fit()\n",
    "print(OLS.summary())"
   ]
  },
  {
   "cell_type": "code",
   "execution_count": 12,
   "metadata": {},
   "outputs": [
    {
     "name": "stdout",
     "output_type": "stream",
     "text": [
      "                            OLS Regression Results                            \n",
      "==============================================================================\n",
      "Dep. Variable:              logtaxrev   R-squared:                       0.980\n",
      "Model:                            OLS   Adj. R-squared:                  0.980\n",
      "Method:                 Least Squares   F-statistic:                     2344.\n",
      "Date:                Thu, 18 Sep 2025   Prob (F-statistic):           1.42e-81\n",
      "Time:                        14:05:09   Log-Likelihood:                 79.497\n",
      "No. Observations:                  98   AIC:                            -153.0\n",
      "Df Residuals:                      95   BIC:                            -145.2\n",
      "Df Model:                           2                                         \n",
      "Covariance Type:            nonrobust                                         \n",
      "==============================================================================\n",
      "                 coef    std err          t      P>|t|      [0.025      0.975]\n",
      "------------------------------------------------------------------------------\n",
      "const         -2.8022      0.376     -7.461      0.000      -3.548      -2.057\n",
      "taxrate        0.0226      0.012      1.816      0.072      -0.002       0.047\n",
      "logpop         0.9711      0.014     67.471      0.000       0.943       1.000\n",
      "==============================================================================\n",
      "Omnibus:                       15.730   Durbin-Watson:                   2.007\n",
      "Prob(Omnibus):                  0.000   Jarque-Bera (JB):               20.068\n",
      "Skew:                           0.810   Prob(JB):                     4.39e-05\n",
      "Kurtosis:                       4.514   Cond. No.                         933.\n",
      "==============================================================================\n",
      "\n",
      "Notes:\n",
      "[1] Standard Errors assume that the covariance matrix of the errors is correctly specified.\n"
     ]
    }
   ],
   "source": [
    "df['logtaxrev'] = np.log(df['taxrev'])\n",
    "\n",
    "y = df['logtaxrev']\n",
    "df['logpop'] = np.log(df['pop'])\n",
    "\n",
    "X = sm.add_constant(df[['taxrate', 'logpop']])\n",
    "\n",
    "OLS = sm.OLS(y, X).fit()\n",
    "print(OLS.summary())"
   ]
  },
  {
   "cell_type": "code",
   "execution_count": 13,
   "metadata": {},
   "outputs": [
    {
     "name": "stdout",
     "output_type": "stream",
     "text": [
      "Korrelation:\n",
      "          taxrate    logpop\n",
      "taxrate  1.000000 -0.196649\n",
      "logpop  -0.196649  1.000000 \n",
      "\n",
      "Kovarians:\n",
      "          taxrate    logpop\n",
      "taxrate  0.824469 -0.140289\n",
      "logpop  -0.140289  0.617290\n"
     ]
    }
   ],
   "source": [
    "import pandas as pd\n",
    "\n",
    "corr = df[[\"taxrate\", \"logpop\"]].corr()\n",
    "\n",
    "\n",
    "cov = df[[\"taxrate\", \"logpop\"]].cov()\n",
    "\n",
    "print(\"Korrelation:\")\n",
    "print(corr, \"\\n\")\n",
    "\n",
    "print(\"Kovarians:\")\n",
    "print(cov)\n"
   ]
  },
  {
   "cell_type": "code",
   "execution_count": 15,
   "metadata": {},
   "outputs": [
    {
     "name": "stdout",
     "output_type": "stream",
     "text": [
      "                            OLS Regression Results                            \n",
      "==============================================================================\n",
      "Dep. Variable:                taxrate   R-squared:                       0.039\n",
      "Model:                            OLS   Adj. R-squared:                  0.029\n",
      "Method:                 Least Squares   F-statistic:                     3.862\n",
      "Date:                Thu, 18 Sep 2025   Prob (F-statistic):             0.0523\n",
      "Time:                        14:05:57   Log-Likelihood:                -127.16\n",
      "No. Observations:                  98   AIC:                             258.3\n",
      "Df Residuals:                      96   BIC:                             263.5\n",
      "Df Model:                           1                                         \n",
      "Covariance Type:            nonrobust                                         \n",
      "==============================================================================\n",
      "                 coef    std err          t      P>|t|      [0.025      0.975]\n",
      "------------------------------------------------------------------------------\n",
      "const         27.6268      1.234     22.386      0.000      25.177      30.077\n",
      "logpop        -0.2273      0.116     -1.965      0.052      -0.457       0.002\n",
      "==============================================================================\n",
      "Omnibus:                        3.367   Durbin-Watson:                   1.570\n",
      "Prob(Omnibus):                  0.186   Jarque-Bera (JB):                2.699\n",
      "Skew:                          -0.328   Prob(JB):                        0.259\n",
      "Kurtosis:                       3.480   Cond. No.                         147.\n",
      "==============================================================================\n",
      "\n",
      "Notes:\n",
      "[1] Standard Errors assume that the covariance matrix of the errors is correctly specified.\n",
      "                            OLS Regression Results                            \n",
      "==============================================================================\n",
      "Dep. Variable:              logtaxrev   R-squared:                       0.001\n",
      "Model:                            OLS   Adj. R-squared:                 -0.010\n",
      "Method:                 Least Squares   F-statistic:                   0.06626\n",
      "Date:                Thu, 18 Sep 2025   Prob (F-statistic):              0.797\n",
      "Time:                        14:05:57   Log-Likelihood:                -112.50\n",
      "No. Observations:                  98   AIC:                             229.0\n",
      "Df Residuals:                      96   BIC:                             234.2\n",
      "Df Model:                           1                                         \n",
      "Covariance Type:            nonrobust                                         \n",
      "==============================================================================\n",
      "                 coef    std err          t      P>|t|      [0.025      0.975]\n",
      "------------------------------------------------------------------------------\n",
      "const          8.1031      0.078    104.100      0.000       7.949       8.258\n",
      "res1           0.0226      0.088      0.257      0.797      -0.152       0.197\n",
      "==============================================================================\n",
      "Omnibus:                       15.581   Durbin-Watson:                   1.763\n",
      "Prob(Omnibus):                  0.000   Jarque-Bera (JB):               46.400\n",
      "Skew:                          -0.383   Prob(JB):                     8.40e-11\n",
      "Kurtosis:                       6.283   Cond. No.                         1.13\n",
      "==============================================================================\n",
      "\n",
      "Notes:\n",
      "[1] Standard Errors assume that the covariance matrix of the errors is correctly specified.\n"
     ]
    }
   ],
   "source": [
    "X = sm.add_constant(df['logpop'])\n",
    "y = df['taxrate']\n",
    "\n",
    "\n",
    "results = sm.OLS(y, X).fit()\n",
    "df['res1'] = results.resid\n",
    "\n",
    "print(results.summary())\n",
    "\n",
    "\n",
    "\n",
    "   "
   ]
  },
  {
   "cell_type": "code",
   "execution_count": 16,
   "metadata": {},
   "outputs": [
    {
     "name": "stdout",
     "output_type": "stream",
     "text": [
      "                            OLS Regression Results                            \n",
      "==============================================================================\n",
      "Dep. Variable:              logtaxrev   R-squared:                       0.001\n",
      "Model:                            OLS   Adj. R-squared:                 -0.010\n",
      "Method:                 Least Squares   F-statistic:                   0.06626\n",
      "Date:                Thu, 18 Sep 2025   Prob (F-statistic):              0.797\n",
      "Time:                        14:08:13   Log-Likelihood:                -112.50\n",
      "No. Observations:                  98   AIC:                             229.0\n",
      "Df Residuals:                      96   BIC:                             234.2\n",
      "Df Model:                           1                                         \n",
      "Covariance Type:            nonrobust                                         \n",
      "==============================================================================\n",
      "                 coef    std err          t      P>|t|      [0.025      0.975]\n",
      "------------------------------------------------------------------------------\n",
      "const          8.1031      0.078    104.100      0.000       7.949       8.258\n",
      "res1           0.0226      0.088      0.257      0.797      -0.152       0.197\n",
      "==============================================================================\n",
      "Omnibus:                       15.581   Durbin-Watson:                   1.763\n",
      "Prob(Omnibus):                  0.000   Jarque-Bera (JB):               46.400\n",
      "Skew:                          -0.383   Prob(JB):                     8.40e-11\n",
      "Kurtosis:                       6.283   Cond. No.                         1.13\n",
      "==============================================================================\n",
      "\n",
      "Notes:\n",
      "[1] Standard Errors assume that the covariance matrix of the errors is correctly specified.\n"
     ]
    }
   ],
   "source": [
    "y1 = df['logtaxrev']\n",
    "X1 = sm.add_constant(df['res1'])\n",
    "\n",
    "results2 = sm.OLS(y1, X1).fit()\n",
    "print(results2.summary())"
   ]
  },
  {
   "cell_type": "code",
   "execution_count": null,
   "metadata": {},
   "outputs": [],
   "source": []
  }
 ],
 "metadata": {
  "kernelspec": {
   "display_name": "base",
   "language": "python",
   "name": "python3"
  },
  "language_info": {
   "codemirror_mode": {
    "name": "ipython",
    "version": 3
   },
   "file_extension": ".py",
   "mimetype": "text/x-python",
   "name": "python",
   "nbconvert_exporter": "python",
   "pygments_lexer": "ipython3",
   "version": "3.12.7"
  }
 },
 "nbformat": 4,
 "nbformat_minor": 2
}
