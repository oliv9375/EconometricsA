{
 "cells": [
  {
   "cell_type": "code",
   "execution_count": 1,
   "metadata": {},
   "outputs": [],
   "source": [
    "import pandas as pd\n",
    "import numpy as np\n",
    "import statsmodels.api as sm"
   ]
  },
  {
   "cell_type": "markdown",
   "metadata": {},
   "source": [
    "# Problem Set 3"
   ]
  },
  {
   "cell_type": "markdown",
   "metadata": {},
   "source": [
    "## Øvelse 1: Implementer manuelt OLS-estimatoren"
   ]
  },
  {
   "cell_type": "markdown",
   "metadata": {},
   "source": [
    "### Del 1: OLS i SLR-tilfældet (en enkelt forklarende variabel)\n"
   ]
  },
  {
   "cell_type": "markdown",
   "metadata": {},
   "source": [
    "Når vi kun har 1 forklarende variabel og en konstant (SLR-tilfældet) arbejder vi med denne model:\n",
    "\n",
    "$$ y_i = \\beta_0 + \\beta_1 x_i + u_i $$\n",
    "\n",
    "Da ved vi fra den økonometriske teori at den sande værdi af $\\beta_1$ er givet ved:\n",
    "\n",
    "$$ \\beta_1 = \\frac{{\\text{Cov}}(x, y)} {\\text{Var}(x)}  $$\n",
    "\n",
    "Vi ved også fra forelæsningerne at vi kan estimere covariansen og variansen sådan her:\n",
    "\n",
    "\\begin{align*}\n",
    "\\widehat{\\text{Cov}}(x)  = \\frac{1}{n} \\sum (x_i - \\bar{x})(y_i - \\bar{y}) \\\\\n",
    "\\widehat{\\text{Var}}(x) = \\frac{1}{n} \\sum (x_i - \\bar{x})^2\n",
    "\\end{align*}\n",
    "\n",
    "hvor $\\bar{x}$ og $\\bar{y}$ er de empiriske gennemsnit af $x, y$ i vores datasæt.  Sætter vi alt dette sammen ved hjælp af Analogi-princippet betyder det at vi kan estimere $\\hat{\\beta}_1$ med formlen:\n",
    "$$\n",
    "\\hat{\\beta}_1 = \\frac{\\sum (x_i - \\bar{x})(y_i - \\bar{y}) }{ \\sum (x_i - \\bar{x})^2}\n",
    "$$\n",
    "\n",
    "Dette er OLS-estimatoren for $\\hat{\\beta}_1$ i SLR-tilfældet.\n",
    "\n"
   ]
  },
  {
   "cell_type": "markdown",
   "metadata": {},
   "source": [
    "#### Opgave 1 \n",
    "Skriv en funktion `OLS_SLR()`, hvor du manuelt implementerer OLS-estimatoren for $\\hat{\\beta}_1$ i SLR-tilfældet. Brug numpy i din implementering. Funktionen skal tage x og y som argumenter, hvor x er et $n \\times 1$ numpy array og y er et $n \\times 1$ numpy array. Funktionen skal returnere skalar-værdien $\\hat{\\beta_1}$.\n",
    "\n",
    "_Hints:_ \n",
    "- Du kan bruge numpy funktionen `np.mean()` til at beregne gennemsnittet af et numpy array og `np.sum()` til at beregne summen over et numpy array.\n",
    "\n"
   ]
  },
  {
   "cell_type": "markdown",
   "metadata": {},
   "source": [
    "**Din kode:**"
   ]
  },
  {
   "cell_type": "code",
   "execution_count": 18,
   "metadata": {},
   "outputs": [],
   "source": [
    "def OLS_SLR(x, y):\n",
    "    return (np.sum( (x - np.mean(x)) * (y - np.mean(y)) )) /  np.sum((x - np.mean(x))**2)"
   ]
  },
  {
   "cell_type": "markdown",
   "metadata": {},
   "source": [
    "#### Opgave 2\n",
    "Her er noget meget simpelt testdata du kan bruge til at tjekke om din implementering er korrekt. Når du kører din funktion bør du få estimatet $\\hat\\beta_1 = 2.0$\n"
   ]
  },
  {
   "cell_type": "code",
   "execution_count": 36,
   "metadata": {},
   "outputs": [
    {
     "name": "stdout",
     "output_type": "stream",
     "text": [
      "(-4.2, 2.0, 1.98997487421324, 0.6)\n"
     ]
    }
   ],
   "source": [
    "X = np.array([ 1, 2, 3, 4, 5,])\n",
    "Y = np.array([-4, 1, 3, 5, 4,])\n",
    "\n",
    "print(OLS_SLR(X,Y))"
   ]
  },
  {
   "cell_type": "markdown",
   "metadata": {},
   "source": [
    "#### Opgave 3 \n",
    "Fra den økonometriske teori ved vi også, at vi kan estimere $\\beta_0$ med formlen:\n",
    "$$ \\hat{\\beta}_0 = \\bar{y} - \\hat{\\beta}_1 \\bar{x} $$\n",
    "\n",
    "Reflekter et øjeblik over formlen: Det giver intuitivt ret god mening. Estimatet af interceptet er gennemsnittet af vores $y$ observationer minus den estimerede effekt af den gennemsnitlige x-observation. \n",
    "\n",
    "Tegn et tilfældigt scatter plot på et stykke papir, tegn den bedste lige linje (en OLS-linje) igennem observationerne og se selv hvor den skærer y-aksen."
   ]
  },
  {
   "cell_type": "markdown",
   "metadata": {},
   "source": [
    "#### Opgave 4\n",
    "Udvid din `OLS_SLR()` funktion så den returnerer ikke bare $\\hat{\\beta}_1$, men en tuple der indeholder ${(\\hat\\beta_0, \\hat\\beta_1)}$. Når du kører din udvidede funktion på samme testdata som før bør du få estimaterne ${(\\hat\\beta_0 = -4.2, \\hat\\beta_1 = 2.0)}$"
   ]
  },
  {
   "cell_type": "markdown",
   "metadata": {},
   "source": [
    "**Din kode:**"
   ]
  },
  {
   "cell_type": "code",
   "execution_count": 21,
   "metadata": {},
   "outputs": [
    {
     "name": "stdout",
     "output_type": "stream",
     "text": [
      "(-4.2, 2.0)\n"
     ]
    }
   ],
   "source": [
    "def OLS_SLR(x, y):\n",
    "    beta_1 = (np.sum( (x - np.mean(x)) * (y - np.mean(y)) )) /  np.sum((x - np.mean(x))**2)\n",
    "    beta_0 = np.mean(y) - beta_1 * np.mean(x)\n",
    "    return (beta_0, beta_1)\n",
    "\n",
    "print(OLS_SLR(X,Y))"
   ]
  },
  {
   "cell_type": "markdown",
   "metadata": {},
   "source": [
    "#### Opgave 5"
   ]
  },
  {
   "cell_type": "markdown",
   "metadata": {},
   "source": [
    "Det sidste trin er at beregne standardfejlene for vores OLS-estimater.  For at gøre dette skal vi først beregne residualerne med formlen:\n",
    "$$ \\hat{u_i} = y - \\beta_0 - \\beta_1 x $$\n",
    "\n",
    "Vi bruger residualerne til at estimere residualvariansen:\n",
    "\n",
    "$$\n",
    "\\hat{\\sigma}^2 = \\frac{1}{n-2} \\sum_{i=1}^{n} \\hat{u}_i^2\n",
    "$$\n",
    "\n",
    "som vi kan bruge til at beregne variansen af OLS-estimatorerne:\n",
    "$$\n",
    "\\text{Var}(\\hat{\\beta}_1 \\mid X) = \\frac{\\hat{\\sigma}^2}{\\sum_{i=1}^{n} (x_i - \\bar{x})^2}\n",
    "$$\n",
    "$$\n",
    "\\text{Var}(\\hat{\\beta}_0 \\mid X) = \\frac{\\hat{\\sigma}^2 \\cdot \\frac{1}{n}\\sum_{i=1}^{n}x_{i}^{2}}{\\sum_{i=1}^{n}(x_i - \\bar{x})^2}\n",
    "$$\n",
    "\n",
    "Standardfejlene er ganske enkelt kvadratrødderne af varianserne:\n",
    "$$\n",
    "\\text{se}(\\hat{\\beta}_1) = \\sqrt{\\text{Var}(\\hat{\\beta}_1 \\mid X)}\n",
    "$$\n",
    "$$\n",
    "\\text{se}(\\hat{\\beta}_0) = \\sqrt{\\text{Var}(\\hat{\\beta}_0 \\mid X)}\n",
    "$$\n",
    "\n",
    "\n"
   ]
  },
  {
   "cell_type": "markdown",
   "metadata": {},
   "source": [
    "Udvid din `OLS_SLR()` funktion så den også returnerer standardfejlene af koefficienterne. Når du kører funktionen på samme testdata som før skulle du gerne få:\n",
    "\n",
    "$$ \\hat \\beta_0 = -4.2, \\quad \\hat \\beta_1 = 2.0, \\quad \\text{se}(\\hat \\beta_0) = 1.99, \\quad \\text{se}(\\hat \\beta_1) = 0.6  $$\n",
    "\n",
    "_Hint_: Brug funktionen `np.sqrt()` til at tage kvadratroden af et tal."
   ]
  },
  {
   "cell_type": "markdown",
   "metadata": {},
   "source": [
    "**Din kode:**"
   ]
  },
  {
   "cell_type": "code",
   "execution_count": 37,
   "metadata": {},
   "outputs": [
    {
     "name": "stdout",
     "output_type": "stream",
     "text": [
      "(-4.2, 2.0, 1.98997487421324, 0.6)\n"
     ]
    }
   ],
   "source": [
    "def OLS_SLR(x, y):\n",
    "    beta_1 = (np.sum( (x - np.mean(x)) * (y - np.mean(y)) )) /  np.sum((x - np.mean(x))**2)\n",
    "    beta_0 = np.mean(y) - beta_1 * np.mean(x)\n",
    "    u_hat = y - beta_0 - beta_1 * x\n",
    "    sigma2 = np.sum(u_hat**2) / (len(y) - 2)\n",
    "    var_beta_1 = sigma2 / np.sum((x - np.mean(x))**2)\n",
    "    var_beta_0 = (sigma2 * (np.sum(x**2))/len(y)) / np.sum((x - np.mean(x))**2)\n",
    "    se_beta_1 = np.sqrt(var_beta_1)\n",
    "    se_beta_0 = np.sqrt(var_beta_0)\n",
    "    return (beta_0, beta_1, se_beta_0, se_beta_1)\n",
    "\n",
    "print(OLS_SLR(X, Y))"
   ]
  },
  {
   "cell_type": "markdown",
   "metadata": {},
   "source": [
    "#### Opgave 6 \n",
    "Brug `sm.OLS()` funktionen fra statsmodels-pakken til at estimere samme model på testdataen og bekræft at dine koefficienter og standardfejl er de samme som dem statsmodels returnerer."
   ]
  },
  {
   "cell_type": "markdown",
   "metadata": {},
   "source": [
    "**Din kode:**"
   ]
  },
  {
   "cell_type": "code",
   "execution_count": 27,
   "metadata": {},
   "outputs": [
    {
     "name": "stdout",
     "output_type": "stream",
     "text": [
      "                            OLS Regression Results                            \n",
      "==============================================================================\n",
      "Dep. Variable:                      y   R-squared:                       0.787\n",
      "Model:                            OLS   Adj. R-squared:                  0.717\n",
      "Method:                 Least Squares   F-statistic:                     11.11\n",
      "Date:                Fri, 12 Sep 2025   Prob (F-statistic):             0.0446\n",
      "Time:                        09:08:10   Log-Likelihood:                -9.0200\n",
      "No. Observations:                   5   AIC:                             22.04\n",
      "Df Residuals:                       3   BIC:                             21.26\n",
      "Df Model:                           1                                         \n",
      "Covariance Type:            nonrobust                                         \n",
      "==============================================================================\n",
      "                 coef    std err          t      P>|t|      [0.025      0.975]\n",
      "------------------------------------------------------------------------------\n",
      "const         -4.2000      1.990     -2.111      0.125     -10.533       2.133\n",
      "x1             2.0000      0.600      3.333      0.045       0.091       3.909\n",
      "==============================================================================\n",
      "Omnibus:                          nan   Durbin-Watson:                   1.667\n",
      "Prob(Omnibus):                    nan   Jarque-Bera (JB):                0.839\n",
      "Skew:                          -0.408   Prob(JB):                        0.657\n",
      "Kurtosis:                       1.167   Cond. No.                         8.37\n",
      "==============================================================================\n",
      "\n",
      "Notes:\n",
      "[1] Standard Errors assume that the covariance matrix of the errors is correctly specified.\n"
     ]
    },
    {
     "name": "stderr",
     "output_type": "stream",
     "text": [
      "/opt/anaconda3/lib/python3.12/site-packages/statsmodels/stats/stattools.py:74: ValueWarning: omni_normtest is not valid with less than 8 observations; 5 samples were given.\n",
      "  warn(\"omni_normtest is not valid with less than 8 observations; %i \"\n"
     ]
    }
   ],
   "source": [
    "print(sm.OLS(Y, sm.add_constant(X)).fit().summary())"
   ]
  },
  {
   "cell_type": "markdown",
   "metadata": {},
   "source": [
    "\n",
    "### Del 2: OLS i MLR-tilfældet (Når vi har flere forklarende variable)\n"
   ]
  },
  {
   "cell_type": "markdown",
   "metadata": {},
   "source": [
    "I det generelle tilfælde hvor vi har flere forklarende variable (MLR), ser modellen sådan her ud:\n",
    "\n",
    "$$y_i = \\beta_0 + \\beta_1 x_{1 i}+ \\beta_2 x_{2 i} +  \\dots + \\beta_k x_{k i} + u_i$$\n",
    "\n",
    "Da ved vi at OLS-estimatoren kan skrives på matrix-form på følgende måde:\n",
    "\n",
    "$$ \\boldsymbol{\\hat {\\beta}} = (\\mathbf{X'} \\mathbf X)^{-1} \\mathbf {X'} \\mathbf y $$\n",
    "\n",
    "hvor:\n",
    "- $\\boldsymbol{\\hat{\\beta}}$ er en $ (k+1) \\times 1 $ vektor af koefficient estimater.\n",
    "- $\\mathbf X$ er en $ n \\times (k+1) $ matrix indeholdende vores observationer af forklarende variable, hvor den første søjle er fyldt med 1-taller for at fange konstante effekter.\n",
    "- $\\mathbf y$ er en $ n \\times 1 $ vektor som indeholder vores observationer af de afhængige variable\n",
    "\n",
    "$n$ er antallet af observationer. $k$ er antallet af forklarende variable (vi plusser 1 for at gøre plads til konstantleddet).\n",
    "\n"
   ]
  },
  {
   "cell_type": "markdown",
   "metadata": {},
   "source": [
    "#### Opgave 1\n",
    "Skriv en funktion `OLS()`, hvor du manuelt implementerer OLS estimatoren i MLR-tilfældet ved hjælp af numpy. Funktionen skal tage X og Y som argumenter, hvor X er et $n \\times (k+1)$ numpy array og Y er et $n \\times 1$ numpy array. Funktionen skal returnere et $(k+1) \\times 1$ numpy array $\\hat{\\beta}$.\n",
    "\n",
    "_Hints:_ \n",
    "- Du kan gange matricer sammen i numpy ved hjælp af @ operatoren. Hvis du for eksempel har to kompatible matricer A og B, kan du bruge koden `A @ B` til at beregne matrix produktet. @ operatoren fungerer også til matrix-vector produkter.\n",
    "\n",
    "- Du kan transponere en matrix i numpy ved at tilføje `.T` til sidst. For eksempel returnerer `A.T` den transpose af matricen A.\n",
    "- Du kan invertere en matrix med `np.linalg.inv()` metoden. For eksempel returnerer `np.linalg.inv(A)` den inverse af matricen A."
   ]
  },
  {
   "cell_type": "markdown",
   "metadata": {},
   "source": [
    "**Din kode:** "
   ]
  },
  {
   "cell_type": "code",
   "execution_count": 38,
   "metadata": {},
   "outputs": [],
   "source": [
    "def OLS(X, Y):\n",
    "    XtX = X.T @ X\n",
    "    XtX_inv = np.linalg.inv(XtX)\n",
    "    XtY = X.T @ Y\n",
    "    beta_hat = XtX_inv @ XtY\n",
    "    return beta_hat\n",
    "\n"
   ]
  },
  {
   "cell_type": "markdown",
   "metadata": {},
   "source": [
    "#### Opgave 2 \n",
    "Tjek at `OLS()` funktionen returnerer de samme koefficienter som i SLR-tilfældet når du kører den på samme data."
   ]
  },
  {
   "cell_type": "markdown",
   "metadata": {},
   "source": [
    "**Din kode:** "
   ]
  },
  {
   "cell_type": "code",
   "execution_count": 39,
   "metadata": {},
   "outputs": [
    {
     "name": "stdout",
     "output_type": "stream",
     "text": [
      "[-4.2  2. ]\n"
     ]
    }
   ],
   "source": [
    "print(OLS(np.column_stack((np.ones(len(X)), X)), Y))"
   ]
  },
  {
   "cell_type": "markdown",
   "metadata": {},
   "source": [
    "#### Opgave 3 \n",
    "Lad os nu tjekke om funktionen også virker når vi har flere forklarende variable (flere søjler i X). Hvis din implementering er rigtig bør du få  følgende koefficient vektor $\\hat{\\beta}$: `array([-3.58043168,  1.61631032,  0.30264712])` når du kører nedenstående celle."
   ]
  },
  {
   "cell_type": "code",
   "execution_count": 40,
   "metadata": {},
   "outputs": [
    {
     "data": {
      "text/plain": [
       "array([-3.58043168,  1.61631032,  0.30264712])"
      ]
     },
     "execution_count": 40,
     "metadata": {},
     "output_type": "execute_result"
    }
   ],
   "source": [
    "X = np.array([[ 1, 2, 3, 4, 5, 1, 0, 1],\n",
    "              [-2, 5, 2, 1, 5, 7, 5, 2]]).T\n",
    "X = sm.add_constant(X)\n",
    "Y = np.array([-4, 1, 3, 5, 4, 1, -2.6, -1])\n",
    "\n",
    "OLS(X,Y)"
   ]
  },
  {
   "cell_type": "markdown",
   "metadata": {},
   "source": [
    "## Øvelse 2: SLR, MLR og makrodata\n",
    "I denne opgave skal vi øve os i at formulere nul- og alternativhypoteser. Samtidig skal vi sammenligne en simpel regressionsmodel (SLR) med en multipel regressionsmodel (MLR).\n",
    "\n",
    "Specifikt vil vi kigge på de makroøkonomiske hypoteser om om _absolut_ og _betinget_ konvergens. Teorierne omhandler langsigtet økonomisk vækst, og om lande kan vokse ud af fattigdom uden indgreb. \n",
    "\n",
    "- Teorien om **absolut konvergens** siger, at på lang sigt vil BNP pr. arbejder konvergere mod samme vækstbane. Det betyder, at jo længere væk et lands initiale BNP pr. arbejder er fra den langsigtede vækstbane, desto hurtigere vil BNP pr. arbejder vokse for at nå samme niveau. \n",
    "\n",
    "- Teorien om **betinget konvergens** siger, at et lands BNP pr. arbejder konvergerer mod en lande-specifik vækstbane, som afhænger af landets strukturelle karakteristika (fx befolkningstilvæksten og inveresteringsraten i fysisk kapital, som kan variere fra land til land)\n",
    "\n",
    "Vi bruger datasættet PS3.dta, som indholder vækstdata for 93 lande fra 1960-2003. Dataen stammer fra Penn World Tables."
   ]
  },
  {
   "cell_type": "markdown",
   "metadata": {},
   "source": [
    "### Del 1: Simpel regressionsmodel (SLR)\n",
    "I første omgang vil vi arbejde med følgende simple regressionsmodel:\n",
    "\n",
    "$$ \\text{gy}_i = \\beta_0 + \\beta_1 \\ln(\\text{y60}_i) + u_i $$\n",
    "\n",
    "hvor:\n",
    "- $\\text{gy}_i $ er den gennemsnitlige årlige vækstrate i BNP pr. arbejder for land $i$ siden 1960\n",
    "- $\\text{y60}_i$ er landets BNP pr. arbejder i år 1960.\n",
    "\n",
    "Bemærk, at vi ligesom i sidste uge tager log-transformationen af BNP pr. arbejder i 1960 for at opnå bedre numeriske resultater, og for at få en procentuel fortolkning af koefficient-estimatet."
   ]
  },
  {
   "cell_type": "markdown",
   "metadata": {},
   "source": [
    "#### Opgave 1\n",
    "Hvad er nul- og alternativ hypotesen, når I gerne vil teste hypotesen om absolut konvergens? Vær præcis, når I formulerer nul- og alternativ hypotesen i ord."
   ]
  },
  {
   "cell_type": "markdown",
   "metadata": {},
   "source": [
    "**Dit svar:**\n"
   ]
  },
  {
   "cell_type": "markdown",
   "metadata": {},
   "source": []
  },
  {
   "cell_type": "markdown",
   "metadata": {},
   "source": [
    "#### Opgave 2\n",
    "Indlæs datasættet PS3.dta og drop de observationer som har datakvalitet D i kolonnen \"grade\". Hvilke lande bliver fravalgt? Hvilken betydning for analysen om absolut konvergens kan det have, at vi frasorterer lande med lav datakvalitet?"
   ]
  },
  {
   "cell_type": "markdown",
   "metadata": {},
   "source": [
    "**Din kode:**\n"
   ]
  },
  {
   "cell_type": "code",
   "execution_count": null,
   "metadata": {},
   "outputs": [],
   "source": []
  },
  {
   "cell_type": "markdown",
   "metadata": {},
   "source": [
    "**Dit svar:**\n"
   ]
  },
  {
   "cell_type": "markdown",
   "metadata": {},
   "source": []
  },
  {
   "cell_type": "markdown",
   "metadata": {},
   "source": [
    "#### Opgave 3\n",
    "Konstruer variablen $\\ln (\\text{y60}_i)$ og estimer den simple regressionsmodel med `sm.OLS()`.  Hvad er modellens forklaringsgrad, $R^2$? Hvad kan I konkludere om absolut konvergens?"
   ]
  },
  {
   "cell_type": "markdown",
   "metadata": {},
   "source": [
    "**Din kode:**"
   ]
  },
  {
   "cell_type": "code",
   "execution_count": null,
   "metadata": {},
   "outputs": [],
   "source": []
  },
  {
   "cell_type": "markdown",
   "metadata": {},
   "source": [
    "**Dit svar:**"
   ]
  },
  {
   "cell_type": "markdown",
   "metadata": {},
   "source": []
  },
  {
   "cell_type": "markdown",
   "metadata": {},
   "source": [
    "### Del 2: Multipel regressionsmodel\n",
    "Vi udvider nu modellen til at inkludere en variabel, som tager højde for forskelle i strukturelle karakteristika på tværs af lande:\n",
    "\n",
    "$$ \\text{gy}_i = \\beta_0 + \\beta_1 \\ln(\\text{y60}_i) + \\beta_2 \\text{struc}_i + u_i $$\n",
    "\n",
    "hvor de strukturelle karakteristika er defineret på følgende måde:\n",
    "\n",
    "$$ \n",
    "\\text{struc}_i = \\ln(\\text{sk}_i) − \\ln(\\text{n}_i + 0, 075)\n",
    "$$ \n",
    "\n",
    "Da I endnu ikke har haft Makroøkonomi A behøver I ikke forstå modellen fuldt ud, men det kan nævnes at:\n",
    "\n",
    "- $\\text{sk}_i$ er investeringsraten i fysisk kapital for land $i$\n",
    "\n",
    "- $\\text{n}_i$ er den gennemsnitlige årlige befolkningsvækst i perioden 1960-2003\n",
    "\n",
    "- De 0,075 i det sidste led er et estimat for afskrivningsraten af fysisk kapital i den basale Solow model. Bemærk, at det er samme værdi for alle lande. I lærer mere om alt dette i Makro A."
   ]
  },
  {
   "cell_type": "markdown",
   "metadata": {},
   "source": [
    "#### Opgave 4\n",
    "Hvad er nul- og alternativhypotesen, når vi gerne vil teste hypotesen om _betinget_ konvergens?"
   ]
  },
  {
   "cell_type": "markdown",
   "metadata": {},
   "source": [
    "**Dit svar:** "
   ]
  },
  {
   "cell_type": "markdown",
   "metadata": {},
   "source": []
  },
  {
   "cell_type": "markdown",
   "metadata": {},
   "source": [
    "#### Opgave 5\n",
    "Konstruer den nye variabel $\\text{struc}_i$. Estimer den multiple regressionsmodel. Hvor meget af variationen i den afhængige variable er forklaret af modellen? Fortolk koefficienten for det initiale niveau af BNP pr. capita. Hvad kan vi konkludere om betinget konvergens? Overvej om en anden afskrivningsrate vil have betydning for jeres estimater."
   ]
  },
  {
   "cell_type": "markdown",
   "metadata": {},
   "source": [
    "**Din kode:**"
   ]
  },
  {
   "cell_type": "code",
   "execution_count": null,
   "metadata": {},
   "outputs": [],
   "source": []
  },
  {
   "cell_type": "markdown",
   "metadata": {},
   "source": [
    "**Dit svar:**"
   ]
  },
  {
   "cell_type": "markdown",
   "metadata": {},
   "source": []
  },
  {
   "cell_type": "markdown",
   "metadata": {},
   "source": [
    "#### Opgave 6\n",
    "I denne opgave vil du lære hvordan du let kan eksportere output fra statsmodels og fra pandas DataFrames til LaTeX, sådan at du kan bruge output fra Python i pæne tabeller, der er korrekt sat op i dine afleveringsopgaver.\n",
    "\n",
    "\n",
    "- Brug denne kommando i Python til at printe dit regression summary som LaTeX kode:\n",
    "```py\n",
    "print(results.summary().as_latex())\n",
    "```\n",
    "\n",
    "- Opret et LaTeX-dokument (fx i Overleaf).\n",
    "\n",
    "- Kopier koden ind i dit LaTeX dokument og se, hvordan tabellen ser ud.\n",
    "\n",
    "Tilsvarende kan du konvertere ethvert Pandas DataFrame (fx deskriptiv statistik) til LaTeX med metoden `.to_latex()`. Bemærk at navngivningen af de to metoder er lidt forskellig i statsmodels og i pandas.\n",
    "\n",
    "Prøv fx at køre koden:\n",
    "```py\n",
    "print(df.describe().to_latex())\n",
    "```\n",
    "\n",
    "*Tip:* Hvis du vil afrunde dit LaTeX output til fx to decimaler, kan du bruge argumentet `float_format=\"%.2f\"` i `.to_latex()` metoden\n",
    "\n",
    "*Tip:* Din tabel bliver automatisk flottere i LaTeX hvis du importerer LaTeX-pakken booktabs:\n",
    "```\\usepackage{booktabs}```"
   ]
  },
  {
   "cell_type": "markdown",
   "metadata": {},
   "source": [
    "**Din kode:**"
   ]
  },
  {
   "cell_type": "code",
   "execution_count": null,
   "metadata": {},
   "outputs": [],
   "source": []
  },
  {
   "cell_type": "markdown",
   "metadata": {},
   "source": [
    "Du vil måske opleve, at det kræver lidt mere arbejde at få tabellen til at se godt ud i LaTeX. Blandt andet fordi statsmodels faktisk spytter flere tabeller af forskellig størrelse ud, når man printer et summary.\n",
    "\n",
    "Du kan bede statsmodels om at printe tabellerne enkeltvist sådan her her. Så kan du fx vælge kun at bruge tabellen der indeholder koefficientestimaterne.\n",
    "\n",
    "```py\n",
    "print(results.summary().tables[0])\n",
    "print(results.summary().tables[1])\n",
    "print(results.summary().tables[2])\n",
    "```\n",
    "\n",
    "**Sidste tip til de \"dovne\":** Hvis du har travlt og ikke har lyst til at rode med at sætte LaTeX-tabellerne pænt op, kan du også bare kopiere de rå tekstoutput fra Python og indsætte i et verbatim miljø i LaTeX – det ser OK ud. Du skriver følgende i LaTeX:\n",
    "\n",
    "```LaTeX\n",
    "\\begin{verbatim}\n",
    "<Dit rå textoutput her>\n",
    "\\end{verbatim}\n",
    "```"
   ]
  }
 ],
 "metadata": {
  "kernelspec": {
   "display_name": "base",
   "language": "python",
   "name": "python3"
  },
  "language_info": {
   "codemirror_mode": {
    "name": "ipython",
    "version": 3
   },
   "file_extension": ".py",
   "mimetype": "text/x-python",
   "name": "python",
   "nbconvert_exporter": "python",
   "pygments_lexer": "ipython3",
   "version": "3.12.7"
  }
 },
 "nbformat": 4,
 "nbformat_minor": 2
}
